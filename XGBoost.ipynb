{
 "cells": [
  {
   "cell_type": "markdown",
   "metadata": {},
   "source": [
    "# XG Boost"
   ]
  },
  {
   "cell_type": "code",
   "execution_count": 0,
   "metadata": {
    "colab": {},
    "colab_type": "code",
    "id": "UEyFraNGmG78"
   },
   "outputs": [],
   "source": [
    "import pandas as pd\n",
    "from sklearn.model_selection import train_test_split\n",
    "from sklearn.metrics import roc_curve, roc_auc_score, f1_score,auc\n",
    "from sklearn.naive_bayes import GaussianNB\n",
    "from sklearn.linear_model import LogisticRegression\n",
    "from sklearn.neural_network import MLPClassifier\n",
    "from sklearn.tree import DecisionTreeClassifier\n",
    "from sklearn.ensemble import RandomForestClassifier\n",
    "import numpy as np\n",
    "import matplotlib.pyplot as plt\n",
    "import seaborn as sns\n",
    "from sklearn.pipeline import Pipeline, FeatureUnion\n",
    "import warnings\n",
    "warnings.filterwarnings('ignore')\n",
    "import seaborn as sns\n",
    "from sklearn.model_selection import GridSearchCV\n",
    "from sklearn.metrics import f1_score\n",
    "from sklearn.metrics import roc_auc_score,accuracy_score\n",
    "from sklearn.metrics import classification_report\n",
    "from pandas import Series, DataFrame\n",
    "import xgboost as xgb\n",
    "from sklearn.metrics import confusion_matrix\n",
    "pd.set_option('display.max_rows', 500)\n",
    "pd.set_option('display.max_columns', 500)\n",
    "pd.set_option('display.width', 1000)\n",
    "import datetime\n",
    "from sklearn.model_selection import RandomizedSearchCV"
   ]
  },
  {
   "cell_type": "code",
   "execution_count": 0,
   "metadata": {
    "colab": {},
    "colab_type": "code",
    "id": "Fm-gi0gDzCnf"
   },
   "outputs": [],
   "source": [
    "df_x = pd.read_csv(\"X_final.csv\")\n",
    "df_x.drop(columns = [\"Unnamed: 0\"],inplace=True)"
   ]
  },
  {
   "cell_type": "code",
   "execution_count": 0,
   "metadata": {
    "colab": {},
    "colab_type": "code",
    "id": "Qf8-2J5tzCqn"
   },
   "outputs": [],
   "source": [
    "df_y = pd.read_csv(\"Y_final.csv\",header=None)"
   ]
  },
  {
   "cell_type": "code",
   "execution_count": 0,
   "metadata": {
    "colab": {
     "base_uri": "https://localhost:8080/",
     "height": 34
    },
    "colab_type": "code",
    "id": "QPeJ_UDxzCsm",
    "outputId": "e5da683d-5905-4b44-a489-98ad0d9a8e67"
   },
   "outputs": [
    {
     "data": {
      "text/plain": [
       "(41326, 361)"
      ]
     },
     "execution_count": 14,
     "metadata": {
      "tags": []
     },
     "output_type": "execute_result"
    }
   ],
   "source": [
    "X = df_x.loc[:, df_x.columns != 'isFraud']\n",
    "X.shape"
   ]
  },
  {
   "cell_type": "code",
   "execution_count": 0,
   "metadata": {
    "colab": {
     "base_uri": "https://localhost:8080/",
     "height": 34
    },
    "colab_type": "code",
    "id": "DPKC38pA0P2m",
    "outputId": "e9f2e31a-c6e1-4ec2-ac70-4d91235ac417"
   },
   "outputs": [
    {
     "data": {
      "text/plain": [
       "(41326, 2)"
      ]
     },
     "execution_count": 15,
     "metadata": {
      "tags": []
     },
     "output_type": "execute_result"
    }
   ],
   "source": [
    "df_y.shape"
   ]
  },
  {
   "cell_type": "code",
   "execution_count": 0,
   "metadata": {
    "colab": {
     "base_uri": "https://localhost:8080/",
     "height": 34
    },
    "colab_type": "code",
    "id": "5McT1PAOziFP",
    "outputId": "f423aa8e-7153-4ddd-c017-8075f13d98f7"
   },
   "outputs": [
    {
     "data": {
      "text/plain": [
       "(41326,)"
      ]
     },
     "execution_count": 17,
     "metadata": {
      "tags": []
     },
     "output_type": "execute_result"
    }
   ],
   "source": [
    "y=df_y[1]\n",
    "y.shape"
   ]
  },
  {
   "cell_type": "code",
   "execution_count": 0,
   "metadata": {
    "colab": {
     "base_uri": "https://localhost:8080/",
     "height": 34
    },
    "colab_type": "code",
    "id": "P0n2gpuizCu0",
    "outputId": "c29d8c2a-1cf8-4309-c923-6d01feb9c176"
   },
   "outputs": [
    {
     "name": "stdout",
     "output_type": "stream",
     "text": [
      "ROC_AUC score: 0.95\n"
     ]
    }
   ],
   "source": [
    "# Split the train dataset in test and train such that 30% is test and 70% is train\n",
    "\n",
    "x_train, x_test, y_train, y_test = train_test_split(X, y, test_size=0.3, random_state=42)\n",
    "\n",
    "# Standardizing the features - to have units in same range\n",
    "from sklearn.preprocessing import StandardScaler\n",
    "sc = StandardScaler()\n",
    "sc.fit(x_train)\n",
    "x_train_std = sc.transform(x_train)\n",
    "x_test_std = sc.transform(x_test)\n",
    "\n",
    "\n",
    "#Using xgboost to search for best hyperparameters \n",
    "import xgboost as xgb\n",
    "\n",
    "xgb_boost = xgb.XGBClassifier(random_state=0,objective= 'binary:logistic',eta=0.005,max_depth=20,min_child_weight=0.1,gamma=0.3,colsample_bytree=0.3)\n",
    "xgb_boost.fit(x_train_std,y_train)\n",
    "\n",
    "y_pred_test = xgb_boost.predict(x_test_std)\n",
    "\n",
    "# evaluate predictions\n",
    "print('ROC_AUC score: %.2f' % roc_auc_score(y_test,xgb_boost.predict_proba(x_test_std)[:, 1]))"
   ]
  },
  {
   "cell_type": "code",
   "execution_count": 0,
   "metadata": {
    "colab": {
     "base_uri": "https://localhost:8080/",
     "height": 136
    },
    "colab_type": "code",
    "id": "1LXzTTnd0BLQ",
    "outputId": "4343f2a9-aa73-4118-80e7-ad6d88d26352"
   },
   "outputs": [
    {
     "data": {
      "text/plain": [
       "XGBClassifier(base_score=0.5, booster='gbtree', colsample_bylevel=1,\n",
       "              colsample_bynode=1, colsample_bytree=0.3, eta=0.005, gamma=0.3,\n",
       "              learning_rate=0.1, max_delta_step=0, max_depth=20,\n",
       "              min_child_weight=0.1, missing=None, n_estimators=100, n_jobs=1,\n",
       "              nthread=None, objective='binary:logistic', random_state=0,\n",
       "              reg_alpha=0, reg_lambda=1, scale_pos_weight=1, seed=None,\n",
       "              silent=None, subsample=1, verbosity=1)"
      ]
     },
     "execution_count": 26,
     "metadata": {
      "tags": []
     },
     "output_type": "execute_result"
    }
   ],
   "source": [
    "xgb_boost.fit(sc.transform(X),y)"
   ]
  },
  {
   "cell_type": "code",
   "execution_count": 0,
   "metadata": {
    "colab": {},
    "colab_type": "code",
    "id": "lVmemsm43W7X"
   },
   "outputs": [],
   "source": [
    "dftest = pd.read_csv(\"Test_Final-2.csv\")\n",
    "dftest.drop(columns = [\"Unnamed: 0\"],inplace=True)\n",
    "test = dftest.loc[:, dftest.columns != 'isFraud']"
   ]
  },
  {
   "cell_type": "code",
   "execution_count": 0,
   "metadata": {
    "colab": {},
    "colab_type": "code",
    "id": "3E43udOi1sl3"
   },
   "outputs": [],
   "source": [
    "# test_enc=labelencoder.transform(test)\n",
    "test_std = sc.transform(test)\n",
    "y_pred_test = xgb_boost.predict_proba(test_std)[:,1]\n",
    "\n",
    "df_submission = pd.DataFrame({'TransactionID':dftest['TransactionID'],'isFraud':y_pred_test})\n",
    "df_submission.to_csv(\"Submission8.csv\",index=False)"
   ]
  },
  {
   "cell_type": "code",
   "execution_count": 0,
   "metadata": {
    "colab": {
     "base_uri": "https://localhost:8080/",
     "height": 1000
    },
    "colab_type": "code",
    "id": "-B8gm1O2Qj1o",
    "outputId": "17a1c0da-a64c-4230-bd01-54db348cfd14"
   },
   "outputs": [
    {
     "data": {
      "text/plain": [
       "array([7.2031823e-04, 9.2545612e-04, 5.2354741e-04, 6.5728405e-04,\n",
       "       1.3793302e-03, 1.0829404e-03, 1.0341534e-03, 6.9224380e-04,\n",
       "       8.7890873e-04, 9.9748664e-04, 7.6113729e-04, 6.8895781e-04,\n",
       "       6.0651661e-04, 7.0538552e-04, 9.1519201e-04, 4.5106304e-04,\n",
       "       6.5116689e-04, 6.3068111e-04, 2.1483782e-03, 8.7629585e-04,\n",
       "       9.0198003e-04, 7.8397489e-04, 6.5101852e-04, 1.5982265e-03,\n",
       "       7.2103704e-04, 4.9472024e-04, 7.5273414e-04, 7.7908713e-04,\n",
       "       7.3507772e-04, 7.2993321e-04, 5.9926743e-04, 8.5324654e-04,\n",
       "       1.2010748e-03, 1.0399196e-03, 8.4611075e-04, 5.4612395e-04,\n",
       "       1.6349487e-03, 1.4595913e-03, 1.6491782e-03, 8.7433989e-04,\n",
       "       8.4566191e-04, 1.9857266e-03, 1.1584376e-03, 7.1172119e-04,\n",
       "       9.1295771e-04, 6.7262183e-04, 1.7297131e-03, 5.3246366e-03,\n",
       "       7.5920584e-04, 1.4654736e-03, 9.4169128e-04, 1.1765931e-03,\n",
       "       1.4542057e-03, 9.8113855e-04, 1.0880008e-03, 1.7542614e-03,\n",
       "       1.5714563e-03, 1.0293860e-03, 1.4051209e-03, 0.0000000e+00,\n",
       "       1.3911797e-03, 6.5011770e-04, 6.6794414e-04, 1.1096566e-03,\n",
       "       9.8670379e-04, 1.1977832e-03, 5.6244840e-04, 1.2166846e-03,\n",
       "       1.3089993e-02, 2.0331886e-02, 6.7268155e-04, 1.1281777e-03,\n",
       "       7.5369747e-04, 7.3500595e-04, 9.6800691e-04, 1.0124416e-03,\n",
       "       1.4300466e-03, 1.0377414e-03, 7.6799741e-04, 8.1944506e-04,\n",
       "       1.8994665e-03, 1.1407140e-03, 1.8435860e-03, 2.3371247e-03,\n",
       "       1.0675380e-03, 8.8609685e-04, 9.6490752e-04, 9.5895497e-04,\n",
       "       1.3547979e-03, 1.3823382e-03, 9.6004322e-04, 8.4161956e-04,\n",
       "       7.6911290e-04, 1.0240884e-03, 2.1223796e-03, 1.3315058e-03,\n",
       "       7.8590662e-04, 1.1156347e-03, 1.6901378e-03, 5.7371205e-04,\n",
       "       6.7277363e-04, 9.3960279e-04, 8.9594972e-04, 8.9040271e-04,\n",
       "       2.3401734e-01, 7.5112335e-02, 1.1526527e-03, 5.7424989e-04,\n",
       "       2.1112282e-03, 9.2154910e-04, 7.9523225e-04, 1.1959105e-03,\n",
       "       2.1382307e-03, 8.3372666e-04, 1.2726299e-03, 3.9128377e-03,\n",
       "       4.6340767e-03, 5.3239916e-04, 6.9937774e-04, 9.4518368e-04,\n",
       "       2.8206385e-03, 1.0487231e-03, 9.7352156e-04, 6.8545790e-04,\n",
       "       1.3078121e-03, 1.1102906e-03, 1.3876497e-03, 1.3095117e-03,\n",
       "       1.5967205e-03, 2.2813459e-03, 5.6256057e-04, 1.5575035e-03,\n",
       "       8.5931900e-04, 1.5749533e-03, 5.4736831e-04, 1.0192397e-03,\n",
       "       8.5749029e-04, 1.1151427e-03, 3.6666600e-03, 6.5699342e-04,\n",
       "       1.7333647e-03, 1.0184962e-03, 1.0607686e-03, 1.6308038e-03,\n",
       "       1.5065733e-03, 1.0367549e-03, 2.8362025e-03, 1.1009595e-03,\n",
       "       6.3785334e-04, 2.0578191e-02, 8.7989873e-04, 1.1300879e-01,\n",
       "       1.4888783e-03, 8.0589025e-04, 1.6764802e-03, 3.0346455e-03,\n",
       "       1.6721210e-03, 1.1521053e-02, 3.5947483e-04, 1.2774271e-03,\n",
       "       9.5445442e-04, 9.2860532e-04, 9.1185072e-04, 5.7546375e-04,\n",
       "       1.4896691e-03, 5.1204232e-03, 4.6481122e-04, 1.1957468e-03,\n",
       "       7.4742618e-04, 1.3706303e-03, 1.3341736e-03, 5.7536439e-04,\n",
       "       1.2506611e-03, 9.1615343e-04, 1.6459988e-03, 1.0405298e-03,\n",
       "       1.9406624e-03, 1.6778619e-03, 4.4046985e-03, 6.7847635e-04,\n",
       "       1.5402574e-03, 7.3500333e-04, 8.9044072e-04, 5.3926406e-04,\n",
       "       8.8545616e-04, 1.0830294e-03, 1.2162380e-03, 2.0926667e-03,\n",
       "       7.7610614e-04, 9.0867275e-04, 2.0532531e-03, 9.0917846e-04,\n",
       "       1.0282057e-03, 1.7112632e-03, 9.3238795e-04, 7.2777260e-04,\n",
       "       9.9386985e-04, 1.7004473e-03, 9.0854679e-04, 1.5346694e-03,\n",
       "       8.6836674e-04, 1.0484774e-03, 1.0291700e-03, 1.1850228e-03,\n",
       "       1.1757078e-03, 6.4593687e-04, 8.8806020e-04, 6.3040806e-04,\n",
       "       9.6481980e-04, 9.9687465e-04, 8.3182706e-04, 9.5348753e-04,\n",
       "       1.1773002e-03, 7.3907425e-04, 8.1238715e-04, 8.9366414e-04,\n",
       "       1.4705416e-03, 1.9926266e-03, 6.1230501e-04, 1.1441451e-03,\n",
       "       1.4520123e-03, 9.8070467e-04, 7.5786398e-04, 1.5037627e-03,\n",
       "       1.2103098e-03, 1.1310198e-03, 9.6550846e-04, 6.8753271e-04,\n",
       "       3.0666529e-03, 1.2736956e-02, 2.3312643e-04, 1.2799780e-03,\n",
       "       8.6949999e-04, 5.3134584e-04, 1.0486996e-03, 1.1123443e-03,\n",
       "       1.2819231e-03, 7.7483559e-04, 7.4592611e-04, 9.5562107e-04,\n",
       "       1.1097812e-03, 8.4896444e-04, 7.9315226e-04, 8.8358531e-04,\n",
       "       7.3950371e-04, 9.8180724e-04, 8.1206730e-04, 2.2918992e-02,\n",
       "       2.4269916e-02, 0.0000000e+00, 6.7588338e-04, 0.0000000e+00,\n",
       "       1.4574875e-03, 1.1073586e-03, 9.6647913e-04, 1.4611193e-03,\n",
       "       1.0875079e-03, 4.4547473e-03, 8.4611023e-04, 1.4136714e-03,\n",
       "       9.6521591e-04, 1.1469661e-03, 1.0836050e-03, 9.0624479e-04,\n",
       "       1.0702795e-03, 7.6415826e-04, 1.3405875e-03, 1.6014043e-03,\n",
       "       9.0422510e-04, 8.0668792e-04, 1.5687365e-03, 8.0578885e-04,\n",
       "       9.0697355e-04, 1.1775218e-03, 0.0000000e+00, 7.3009764e-04,\n",
       "       1.1398442e-03, 7.4602640e-04, 1.0250894e-03, 1.2219617e-03,\n",
       "       1.4167179e-03, 1.8295719e-03, 6.4131990e-04, 8.0817979e-04,\n",
       "       1.0127263e-03, 4.6054395e-03, 0.0000000e+00, 7.3657930e-04,\n",
       "       8.7138294e-04, 5.7161943e-04, 1.1104943e-03, 4.1201264e-03,\n",
       "       7.5294677e-04, 1.0707802e-03, 3.6273119e-03, 2.3652054e-03,\n",
       "       1.5841709e-03, 1.2672781e-03, 5.7844853e-04, 8.2689145e-04,\n",
       "       6.4558320e-04, 7.0819841e-04, 7.3578727e-04, 8.9673814e-04,\n",
       "       8.6658925e-04, 6.5336266e-04, 7.3906075e-04, 9.8993338e-04,\n",
       "       0.0000000e+00, 8.0753391e-04, 6.5183151e-04, 1.0140543e-03,\n",
       "       2.2123526e-03, 2.7259327e-03, 8.9444977e-04, 9.2168478e-04,\n",
       "       8.8799401e-04, 1.1588162e-03, 5.7939370e-04, 1.0604425e-03,\n",
       "       7.4356003e-04, 9.5620664e-04, 1.3356477e-03, 7.4738462e-04,\n",
       "       1.0137577e-03, 7.7610934e-04, 1.5083459e-03, 1.0545508e-03,\n",
       "       1.0208212e-03, 6.4075168e-04, 1.6235238e-03, 1.5447862e-03,\n",
       "       3.7598868e-03, 3.2875193e-03, 1.7698101e-03, 2.4824429e-03,\n",
       "       1.6942399e-03, 1.1876404e-03, 9.0014078e-03, 3.0723759e-03,\n",
       "       1.2291857e-03, 1.4488838e-03, 1.0924351e-02, 8.0880342e-04,\n",
       "       3.3297502e-03, 1.0946067e-02, 1.2257303e-03, 7.2574132e-04,\n",
       "       1.0001386e-03, 8.0268423e-04, 8.8880153e-04, 4.9514868e-03,\n",
       "       1.0333137e-03, 1.2164937e-03, 3.0092255e-03, 1.0222368e-03,\n",
       "       1.2081340e-03, 1.9026703e-03, 9.5372711e-04, 9.6210674e-04,\n",
       "       9.5042342e-04], dtype=float32)"
      ]
     },
     "execution_count": 40,
     "metadata": {
      "tags": []
     },
     "output_type": "execute_result"
    }
   ],
   "source": [
    "xgb_boost.feature_importances_"
   ]
  },
  {
   "cell_type": "code",
   "execution_count": 0,
   "metadata": {
    "colab": {
     "base_uri": "https://localhost:8080/",
     "height": 733
    },
    "colab_type": "code",
    "id": "O0VsR2r-Lgu7",
    "outputId": "563771ae-e324-4dad-e653-30137f82b4f7"
   },
   "outputs": [
    {
     "data": {
      "text/plain": [
       "Text(0.5, 1.0, 'Important Features')"
      ]
     },
     "execution_count": 65,
     "metadata": {
      "tags": []
     },
     "output_type": "execute_result"
    },
    {
     "data": {
      "image/png": "[encoded data removed]",
      "text/plain": [
       "<Figure size 720x864 with 1 Axes>"
      ]
     },
     "metadata": {
      "tags": []
     },
     "output_type": "display_data"
    }
   ],
   "source": [
    "plt.figure(figsize=(10,12))\n",
    "feat_importances = pd.Series(xgb_boost.feature_importances_, index=X.columns)\n",
    "feat_importances.sort_values(ascending=False)[:20].plot(kind='barh')\n",
    "plt.title(\"Important Features\")"
   ]
  }
 ],
 "metadata": {
  "accelerator": "GPU",
  "colab": {
   "name": "BDS Final Project.ipynb",
   "provenance": []
  },
  "kernelspec": {
   "display_name": "Python 3",
   "language": "python",
   "name": "python3"
  },
  "language_info": {
   "codemirror_mode": {
    "name": "ipython",
    "version": 3
   },
   "file_extension": ".py",
   "mimetype": "text/x-python",
   "name": "python",
   "nbconvert_exporter": "python",
   "pygments_lexer": "ipython3",
   "version": "3.7.3"
  }
 },
 "nbformat": 4,
 "nbformat_minor": 1
}
